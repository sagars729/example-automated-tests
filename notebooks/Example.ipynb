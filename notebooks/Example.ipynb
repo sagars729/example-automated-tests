{
 "cells": [
  {
   "cell_type": "markdown",
   "metadata": {},
   "source": [
    "# Example Python Notebook\n",
    "\n",
    "## Setup Python Classpaths"
   ]
  },
  {
   "cell_type": "code",
   "execution_count": 2,
   "metadata": {},
   "outputs": [],
   "source": [
    "import sys\n",
    "sys.path.append(\"../src\")"
   ]
  },
  {
   "cell_type": "markdown",
   "metadata": {},
   "source": [
    "## Import and Use Classes"
   ]
  },
  {
   "cell_type": "code",
   "execution_count": 5,
   "metadata": {},
   "outputs": [
    {
     "name": "stdout",
     "output_type": "stream",
     "text": [
      "Hello World\n"
     ]
    }
   ],
   "source": [
    "from hello import Hello\n",
    "\n",
    "# print the hello phrase\n",
    "print(Hello.getHello())"
   ]
  },
  {
   "cell_type": "code",
   "execution_count": 4,
   "metadata": {},
   "outputs": [
    {
     "name": "stdout",
     "output_type": "stream",
     "text": [
      "Goodbye World\n"
     ]
    }
   ],
   "source": [
    "from goodbye import Goodbye\n",
    "\n",
    "# print the goodbye phrase\n",
    "print(Goodbye.getGoodbye())"
   ]
  },
  {
   "cell_type": "code",
   "execution_count": 7,
   "metadata": {},
   "outputs": [
    {
     "name": "stdout",
     "output_type": "stream",
     "text": [
      "\u001b[1m============================= test session starts ==============================\u001b[0m\n",
      "platform darwin -- Python 3.7.4, pytest-6.1.1, py-1.9.0, pluggy-0.13.1\n",
      "rootdir: /Users/sagarsaxena/Desktop/Programming/Example-Automated-Tests\n",
      "collected 2 items / 2 errors                                                   \u001b[0m\n",
      "\n",
      "==================================== ERRORS ====================================\n",
      "\u001b[31m\u001b[1m____________________ ERROR collecting test/test_goodbye.py _____________________\u001b[0m\n",
      "\u001b[31mImportError while importing test module '/Users/sagarsaxena/Desktop/Programming/Example-Automated-Tests/test/test_goodbye.py'.\n",
      "Hint: make sure your test modules/packages have valid Python names.\n",
      "Traceback:\n",
      "../../../../anaconda3/lib/python3.7/importlib/__init__.py:127: in import_module\n",
      "    return _bootstrap._gcd_import(name[level:], package, level)\n",
      "../test/test_goodbye.py:1: in <module>\n",
      "    from goodbye import Goodbye\n",
      "E   ModuleNotFoundError: No module named 'goodbye'\u001b[0m\n",
      "\u001b[31m\u001b[1m_____________________ ERROR collecting test/test_hello.py ______________________\u001b[0m\n",
      "\u001b[31mImportError while importing test module '/Users/sagarsaxena/Desktop/Programming/Example-Automated-Tests/test/test_hello.py'.\n",
      "Hint: make sure your test modules/packages have valid Python names.\n",
      "Traceback:\n",
      "../../../../anaconda3/lib/python3.7/importlib/__init__.py:127: in import_module\n",
      "    return _bootstrap._gcd_import(name[level:], package, level)\n",
      "../test/test_hello.py:1: in <module>\n",
      "    from hello import Hello\n",
      "E   ModuleNotFoundError: No module named 'hello'\u001b[0m\n",
      "=========================== short test summary info ============================\n",
      "ERROR ../test/test_goodbye.py\n",
      "ERROR ../test/test_hello.py\n",
      "!!!!!!!!!!!!!!!!!!! Interrupted: 2 errors during collection !!!!!!!!!!!!!!!!!!!!\n",
      "\u001b[31m============================== \u001b[31m\u001b[1m2 errors\u001b[0m\u001b[31m in 0.10s\u001b[0m\u001b[31m ===============================\u001b[0m\n"
     ]
    }
   ],
   "source": [
    "!export PYTHONPATH=\"..:../src\"\n",
    "!pytest ../test"
   ]
  },
  {
   "cell_type": "code",
   "execution_count": null,
   "metadata": {},
   "outputs": [],
   "source": []
  }
 ],
 "metadata": {
  "kernelspec": {
   "display_name": "Python 3",
   "language": "python",
   "name": "python3"
  },
  "language_info": {
   "codemirror_mode": {
    "name": "ipython",
    "version": 3
   },
   "file_extension": ".py",
   "mimetype": "text/x-python",
   "name": "python",
   "nbconvert_exporter": "python",
   "pygments_lexer": "ipython3",
   "version": "3.7.4"
  }
 },
 "nbformat": 4,
 "nbformat_minor": 4
}
